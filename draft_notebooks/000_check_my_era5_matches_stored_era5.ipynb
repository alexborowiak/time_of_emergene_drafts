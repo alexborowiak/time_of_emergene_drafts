{
 "cells": [
  {
   "cell_type": "code",
   "execution_count": 2,
   "id": "8068ef02-f3e9-44b3-95a8-68719260a0e7",
   "metadata": {},
   "outputs": [
    {
     "name": "stderr",
     "output_type": "stream",
     "text": [
      "Matplotlib created a temporary cache directory at /jobfs/133172439.gadi-pbs/matplotlib-z0danwjj because the default path (/home/563/ab2313/.cache/matplotlib) is not a writable directory; it is highly recommended to set the MPLCONFIGDIR environment variable to a writable directory, in particular to speed up the import of Matplotlib and to better support multiprocessing.\n"
     ]
    }
   ],
   "source": [
    "import numpy as np\n",
    "import xarray as xr\n",
    "import matplotlib.pyplot as plt"
   ]
  },
  {
   "cell_type": "code",
   "execution_count": 3,
   "id": "59849f15-8521-42bd-bc85-4d1aaef4a6ec",
   "metadata": {},
   "outputs": [],
   "source": [
    "import os"
   ]
  },
  {
   "cell_type": "code",
   "execution_count": 4,
   "id": "2e5a0628-c572-4ac6-a733-dd11bfe19543",
   "metadata": {},
   "outputs": [],
   "source": [
    "MY_ERA5_PATH = '/g/data/w40/ab2313/time_of_emergence/era5/2t.zarr'"
   ]
  },
  {
   "cell_type": "code",
   "execution_count": 5,
   "id": "002698bf-be0f-4779-866c-73e13300508c",
   "metadata": {},
   "outputs": [],
   "source": [
    "# Open all the files in the tmp file\n",
    "my_data_ds = xr.open_zarr(MY_ERA5_PATH, use_cftime=True)"
   ]
  },
  {
   "cell_type": "code",
   "execution_count": 10,
   "id": "ee755aff-c749-4193-bae9-57ac84686ccc",
   "metadata": {},
   "outputs": [],
   "source": [
    "THEIR_ERA5_PATH = '/g/data/rt52/era5/single-levels/monthly-averaged/2t'"
   ]
  },
  {
   "cell_type": "code",
   "execution_count": null,
   "id": "b80abb85-064a-436a-8437-b687caae5f6a",
   "metadata": {},
   "outputs": [],
   "source": [
    "their_data_ds = xr.open_mfdataset(THEIR_ERA5_PATH + '/**/*.nc', use_cftime=True).persist()"
   ]
  },
  {
   "cell_type": "code",
   "execution_count": null,
   "id": "bc570975-2101-410a-8012-dca4e3ca3800",
   "metadata": {},
   "outputs": [],
   "source": [
    "their_data_ds = their_data_ds.persist()"
   ]
  },
  {
   "cell_type": "code",
   "execution_count": null,
   "id": "f9a7b35c-4a19-4854-82df-11ed2b8dc9ff",
   "metadata": {},
   "outputs": [],
   "source": []
  }
 ],
 "metadata": {
  "kernelspec": {
   "display_name": "Python [conda env:analysis3-24.04] *",
   "language": "python",
   "name": "conda-env-analysis3-24.04-py"
  },
  "language_info": {
   "codemirror_mode": {
    "name": "ipython",
    "version": 3
   },
   "file_extension": ".py",
   "mimetype": "text/x-python",
   "name": "python",
   "nbconvert_exporter": "python",
   "pygments_lexer": "ipython3",
   "version": "3.10.14"
  }
 },
 "nbformat": 4,
 "nbformat_minor": 5
}
