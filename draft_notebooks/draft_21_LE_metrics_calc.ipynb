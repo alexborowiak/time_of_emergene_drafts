{
 "cells": [
  {
   "cell_type": "code",
   "execution_count": null,
   "id": "5b9ee874-e0ce-4969-8e45-dd24f365459a",
   "metadata": {},
   "outputs": [],
   "source": []
  }
 ],
 "metadata": {
  "kernelspec": {
   "display_name": "Python [conda env:analysis27-18.10]",
   "language": "python",
   "name": "conda-env-analysis27-18.10-py"
  },
  "language_info": {
   "codemirror_mode": {
    "name": "ipython",
    "version": 2
   },
   "file_extension": ".py",
   "mimetype": "text/x-python",
   "name": "python",
   "nbconvert_exporter": "python",
   "pygments_lexer": "ipython2",
   "version": "2.7.15"
  }
 },
 "nbformat": 4,
 "nbformat_minor": 5
}
