{
 "cells": [
  {
   "cell_type": "code",
   "execution_count": 1,
   "id": "02173fe5-7d2c-43ed-ad04-65ef0cc70300",
   "metadata": {},
   "outputs": [],
   "source": [
    "import xarray as xr"
   ]
  },
  {
   "cell_type": "code",
   "execution_count": 2,
   "id": "3b061b09-7f1b-4379-8999-5c2886ef8ef3",
   "metadata": {},
   "outputs": [],
   "source": [
    "DAILY_BEST_PATH = '/g/data/w40/ab2313/time_of_emergence/best/Complete_TAVG_Daily_EqualArea.nc'"
   ]
  },
  {
   "cell_type": "code",
   "execution_count": 3,
   "id": "880c52e9-db27-4d9a-90b0-ace47d69046b",
   "metadata": {},
   "outputs": [
    {
     "name": "stderr",
     "output_type": "stream",
     "text": [
      "Matplotlib created a temporary cache directory at /jobfs/135834211.gadi-pbs/matplotlib-oyc3sazy because the default path (/home/563/ab2313/.cache/matplotlib) is not a writable directory; it is highly recommended to set the MPLCONFIGDIR environment variable to a writable directory, in particular to speed up the import of Matplotlib and to better support multiprocessing.\n",
      "Matplotlib is building the font cache; this may take a moment.\n"
     ]
    }
   ],
   "source": [
    "ds = xr.open_dataset(DAILY_BEST_PATH)"
   ]
  },
  {
   "cell_type": "code",
   "execution_count": null,
   "id": "fb1c7246-f145-488a-b37a-ad1bf2906c63",
   "metadata": {},
   "outputs": [],
   "source": []
  },
  {
   "cell_type": "code",
   "execution_count": 8,
   "id": "29c06993-f9ef-44df-ab37-8360bdf4791d",
   "metadata": {},
   "outputs": [
    {
     "data": {
      "text/plain": [
       "array([1880., 1880., 1880., ..., 2022., 2022., 2022.])"
      ]
     },
     "execution_count": 8,
     "metadata": {},
     "output_type": "execute_result"
    }
   ],
   "source": [
    "ds.year.values"
   ]
  }
 ],
 "metadata": {
  "kernelspec": {
   "display_name": "“emd2+conda/analysis3”",
   "language": "python",
   "name": "test-venv"
  },
  "language_info": {
   "codemirror_mode": {
    "name": "ipython",
    "version": 3
   },
   "file_extension": ".py",
   "mimetype": "text/x-python",
   "name": "python",
   "nbconvert_exporter": "python",
   "pygments_lexer": "ipython3",
   "version": "3.10.14"
  }
 },
 "nbformat": 4,
 "nbformat_minor": 5
}
